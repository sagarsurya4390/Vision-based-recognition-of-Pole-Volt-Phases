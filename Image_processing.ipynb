{
 "cells": [
  {
   "cell_type": "code",
   "execution_count": 2,
   "id": "3a3d4abd",
   "metadata": {},
   "outputs": [],
   "source": [
    "# Step 1: Load the data\n",
    "import os\n",
    "import pandas as pd\n",
    "import cv2\n",
    "from skimage.feature import hog\n",
    "import numpy as np\n",
    "from sklearn.model_selection import train_test_split\n",
    "from sklearn.svm import SVC\n",
    "from sklearn.metrics import accuracy_score"
   ]
  },
  {
   "cell_type": "code",
   "execution_count": 3,
   "id": "91d714f7",
   "metadata": {},
   "outputs": [],
   "source": [
    "\n",
    "\n",
    "# Set the path to the folder containing the subfolders\n",
    "folder_path = './CP/Dataset/'\n",
    "\n",
    "# Set the output folder to save the resized images\n",
    "output_folder = './CP/resized/'\n",
    "\n",
    "# Define the desired image size\n",
    "new_size = (256, 256)\n",
    "\n",
    "# Loop through each subfolder in the dataset\n",
    "for subfolder in os.listdir(folder_path):\n",
    "    subfolder_path = os.path.join(folder_path, subfolder)\n",
    "    \n",
    "    # Create a corresponding subfolder in the output directory\n",
    "    output_subfolder_path = os.path.join(output_folder, subfolder)\n",
    "    os.makedirs(output_subfolder_path, exist_ok=True)\n",
    "    \n",
    "    # Loop through each image in the subfolder\n",
    "    for filename in os.listdir(subfolder_path):\n",
    "        filepath = os.path.join(subfolder_path, filename)\n",
    "        \n",
    "        # Read the image using OpenCV\n",
    "        img = cv2.imread(filepath)\n",
    "        \n",
    "        # Resize the image\n",
    "        resized = cv2.resize(img, new_size)\n",
    "        gray_img = cv2.cvtColor(resized, cv2.COLOR_BGR2GRAY)\n",
    "                \n",
    "        \n",
    "        # Write the resized image to the output directory\n",
    "        output_filepath = os.path.join(output_subfolder_path, filename)\n",
    "        cv2.imwrite(output_filepath, gray_img)"
   ]
  }
 ],
 "metadata": {
  "kernelspec": {
   "display_name": "Python 3 (ipykernel)",
   "language": "python",
   "name": "python3"
  },
  "language_info": {
   "codemirror_mode": {
    "name": "ipython",
    "version": 3
   },
   "file_extension": ".py",
   "mimetype": "text/x-python",
   "name": "python",
   "nbconvert_exporter": "python",
   "pygments_lexer": "ipython3",
   "version": "3.9.13"
  }
 },
 "nbformat": 4,
 "nbformat_minor": 5
}
